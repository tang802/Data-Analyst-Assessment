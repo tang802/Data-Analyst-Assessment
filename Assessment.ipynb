{
 "cells": [
  {
   "attachments": {},
   "cell_type": "markdown",
   "metadata": {},
   "source": [
    "## Data Analyst Assessment \n",
    "### Social Data"
   ]
  },
  {
   "cell_type": "code",
   "execution_count": 1,
   "metadata": {},
   "outputs": [],
   "source": [
    "import pandas as pd"
   ]
  },
  {
   "cell_type": "code",
   "execution_count": 2,
   "metadata": {},
   "outputs": [],
   "source": [
    "# read the dataset into a panda Dataframe\n",
    "data = pd.read_excel(\"~/Downloads/social_data.xlsx\")"
   ]
  },
  {
   "cell_type": "code",
   "execution_count": 4,
   "metadata": {},
   "outputs": [
    {
     "data": {
      "text/html": [
       "<div>\n",
       "<style scoped>\n",
       "    .dataframe tbody tr th:only-of-type {\n",
       "        vertical-align: middle;\n",
       "    }\n",
       "\n",
       "    .dataframe tbody tr th {\n",
       "        vertical-align: top;\n",
       "    }\n",
       "\n",
       "    .dataframe thead th {\n",
       "        text-align: right;\n",
       "    }\n",
       "</style>\n",
       "<table border=\"1\" class=\"dataframe\">\n",
       "  <thead>\n",
       "    <tr style=\"text-align: right;\">\n",
       "      <th></th>\n",
       "      <th>Published Date</th>\n",
       "      <th>Account</th>\n",
       "      <th>Account Type</th>\n",
       "      <th>Campaign Name</th>\n",
       "      <th>Total Impressions</th>\n",
       "      <th>Total Engagements</th>\n",
       "      <th>Media Type</th>\n",
       "    </tr>\n",
       "  </thead>\n",
       "  <tbody>\n",
       "    <tr>\n",
       "      <th>0</th>\n",
       "      <td>2023-03-31 19:55:43.192</td>\n",
       "      <td>CSGO</td>\n",
       "      <td>TWITTER</td>\n",
       "      <td>N/A</td>\n",
       "      <td>0</td>\n",
       "      <td>0</td>\n",
       "      <td>Text</td>\n",
       "    </tr>\n",
       "    <tr>\n",
       "      <th>1</th>\n",
       "      <td>2023-03-31 19:49:35.243</td>\n",
       "      <td>CSGO</td>\n",
       "      <td>TWITTER</td>\n",
       "      <td>N/A</td>\n",
       "      <td>0</td>\n",
       "      <td>0</td>\n",
       "      <td>Text</td>\n",
       "    </tr>\n",
       "    <tr>\n",
       "      <th>2</th>\n",
       "      <td>2023-03-31 19:49:33.535</td>\n",
       "      <td>CSGO</td>\n",
       "      <td>TWITTER</td>\n",
       "      <td>N/A</td>\n",
       "      <td>0</td>\n",
       "      <td>0</td>\n",
       "      <td>Text</td>\n",
       "    </tr>\n",
       "    <tr>\n",
       "      <th>3</th>\n",
       "      <td>2023-03-31 19:49:31.583</td>\n",
       "      <td>CSGO</td>\n",
       "      <td>TWITTER</td>\n",
       "      <td>N/A</td>\n",
       "      <td>0</td>\n",
       "      <td>0</td>\n",
       "      <td>Text</td>\n",
       "    </tr>\n",
       "    <tr>\n",
       "      <th>4</th>\n",
       "      <td>2023-03-31 19:43:42.590</td>\n",
       "      <td>CSGO</td>\n",
       "      <td>TWITTER</td>\n",
       "      <td>Community Engagement</td>\n",
       "      <td>9517</td>\n",
       "      <td>1215</td>\n",
       "      <td>Video</td>\n",
       "    </tr>\n",
       "    <tr>\n",
       "      <th>5</th>\n",
       "      <td>2023-03-31 19:42:11.331</td>\n",
       "      <td>CSGO</td>\n",
       "      <td>TWITTER</td>\n",
       "      <td>N/A</td>\n",
       "      <td>0</td>\n",
       "      <td>0</td>\n",
       "      <td>Photo</td>\n",
       "    </tr>\n",
       "    <tr>\n",
       "      <th>6</th>\n",
       "      <td>2023-03-31 19:40:57.383</td>\n",
       "      <td>CSGO</td>\n",
       "      <td>TWITTER</td>\n",
       "      <td>Community Engagement</td>\n",
       "      <td>1882</td>\n",
       "      <td>83</td>\n",
       "      <td>Photo</td>\n",
       "    </tr>\n",
       "    <tr>\n",
       "      <th>7</th>\n",
       "      <td>2023-03-31 19:23:57.349</td>\n",
       "      <td>CSGO</td>\n",
       "      <td>TWITTER</td>\n",
       "      <td>Community Engagement</td>\n",
       "      <td>17892</td>\n",
       "      <td>3076</td>\n",
       "      <td>Video</td>\n",
       "    </tr>\n",
       "    <tr>\n",
       "      <th>8</th>\n",
       "      <td>2023-03-31 19:15:14.431</td>\n",
       "      <td>CSGO</td>\n",
       "      <td>TWITTER</td>\n",
       "      <td>N/A</td>\n",
       "      <td>0</td>\n",
       "      <td>0</td>\n",
       "      <td>Video</td>\n",
       "    </tr>\n",
       "    <tr>\n",
       "      <th>9</th>\n",
       "      <td>2023-03-31 18:55:51.855</td>\n",
       "      <td>CSGO</td>\n",
       "      <td>TWITTER</td>\n",
       "      <td>Community Engagement</td>\n",
       "      <td>13874</td>\n",
       "      <td>1447</td>\n",
       "      <td>Video</td>\n",
       "    </tr>\n",
       "  </tbody>\n",
       "</table>\n",
       "</div>"
      ],
      "text/plain": [
       "           Published Date Account Account Type          Campaign Name  \\\n",
       "0 2023-03-31 19:55:43.192    CSGO      TWITTER                   N/A    \n",
       "1 2023-03-31 19:49:35.243    CSGO      TWITTER                   N/A    \n",
       "2 2023-03-31 19:49:33.535    CSGO      TWITTER                   N/A    \n",
       "3 2023-03-31 19:49:31.583    CSGO      TWITTER                   N/A    \n",
       "4 2023-03-31 19:43:42.590    CSGO      TWITTER  Community Engagement    \n",
       "5 2023-03-31 19:42:11.331    CSGO      TWITTER                   N/A    \n",
       "6 2023-03-31 19:40:57.383    CSGO      TWITTER  Community Engagement    \n",
       "7 2023-03-31 19:23:57.349    CSGO      TWITTER  Community Engagement    \n",
       "8 2023-03-31 19:15:14.431    CSGO      TWITTER                   N/A    \n",
       "9 2023-03-31 18:55:51.855    CSGO      TWITTER  Community Engagement    \n",
       "\n",
       "   Total Impressions  Total Engagements Media Type  \n",
       "0                  0                  0       Text  \n",
       "1                  0                  0       Text  \n",
       "2                  0                  0       Text  \n",
       "3                  0                  0       Text  \n",
       "4               9517               1215      Video  \n",
       "5                  0                  0      Photo  \n",
       "6               1882                 83      Photo  \n",
       "7              17892               3076      Video  \n",
       "8                  0                  0      Video  \n",
       "9              13874               1447      Video  "
      ]
     },
     "execution_count": 4,
     "metadata": {},
     "output_type": "execute_result"
    }
   ],
   "source": [
    "data.head(10)"
   ]
  },
  {
   "attachments": {},
   "cell_type": "markdown",
   "metadata": {},
   "source": [
    "#### 1. What is the typical engagement rate we can expect? What's the likelihood that we can achieve a 15% engagement rate?"
   ]
  },
  {
   "cell_type": "code",
   "execution_count": 5,
   "metadata": {},
   "outputs": [],
   "source": [
    "# Filter the dataset with only the 'Total Impressions' being non-zero\n",
    "filtered_data = data[data['Total Impressions'] > 0]\n"
   ]
  },
  {
   "cell_type": "code",
   "execution_count": 6,
   "metadata": {},
   "outputs": [
    {
     "data": {
      "text/html": [
       "<div>\n",
       "<style scoped>\n",
       "    .dataframe tbody tr th:only-of-type {\n",
       "        vertical-align: middle;\n",
       "    }\n",
       "\n",
       "    .dataframe tbody tr th {\n",
       "        vertical-align: top;\n",
       "    }\n",
       "\n",
       "    .dataframe thead th {\n",
       "        text-align: right;\n",
       "    }\n",
       "</style>\n",
       "<table border=\"1\" class=\"dataframe\">\n",
       "  <thead>\n",
       "    <tr style=\"text-align: right;\">\n",
       "      <th></th>\n",
       "      <th>Published Date</th>\n",
       "      <th>Account</th>\n",
       "      <th>Account Type</th>\n",
       "      <th>Campaign Name</th>\n",
       "      <th>Total Impressions</th>\n",
       "      <th>Total Engagements</th>\n",
       "      <th>Media Type</th>\n",
       "    </tr>\n",
       "  </thead>\n",
       "  <tbody>\n",
       "    <tr>\n",
       "      <th>4</th>\n",
       "      <td>2023-03-31 19:43:42.590</td>\n",
       "      <td>CSGO</td>\n",
       "      <td>TWITTER</td>\n",
       "      <td>Community Engagement</td>\n",
       "      <td>9517</td>\n",
       "      <td>1215</td>\n",
       "      <td>Video</td>\n",
       "    </tr>\n",
       "    <tr>\n",
       "      <th>6</th>\n",
       "      <td>2023-03-31 19:40:57.383</td>\n",
       "      <td>CSGO</td>\n",
       "      <td>TWITTER</td>\n",
       "      <td>Community Engagement</td>\n",
       "      <td>1882</td>\n",
       "      <td>83</td>\n",
       "      <td>Photo</td>\n",
       "    </tr>\n",
       "    <tr>\n",
       "      <th>7</th>\n",
       "      <td>2023-03-31 19:23:57.349</td>\n",
       "      <td>CSGO</td>\n",
       "      <td>TWITTER</td>\n",
       "      <td>Community Engagement</td>\n",
       "      <td>17892</td>\n",
       "      <td>3076</td>\n",
       "      <td>Video</td>\n",
       "    </tr>\n",
       "    <tr>\n",
       "      <th>9</th>\n",
       "      <td>2023-03-31 18:55:51.855</td>\n",
       "      <td>CSGO</td>\n",
       "      <td>TWITTER</td>\n",
       "      <td>Community Engagement</td>\n",
       "      <td>13874</td>\n",
       "      <td>1447</td>\n",
       "      <td>Video</td>\n",
       "    </tr>\n",
       "    <tr>\n",
       "      <th>10</th>\n",
       "      <td>2023-03-31 18:36:01.000</td>\n",
       "      <td>General</td>\n",
       "      <td>FBPAGE</td>\n",
       "      <td>Community Engagement</td>\n",
       "      <td>37692</td>\n",
       "      <td>8044</td>\n",
       "      <td>Photo</td>\n",
       "    </tr>\n",
       "    <tr>\n",
       "      <th>...</th>\n",
       "      <td>...</td>\n",
       "      <td>...</td>\n",
       "      <td>...</td>\n",
       "      <td>...</td>\n",
       "      <td>...</td>\n",
       "      <td>...</td>\n",
       "      <td>...</td>\n",
       "    </tr>\n",
       "    <tr>\n",
       "      <th>3463</th>\n",
       "      <td>2023-01-04 13:17:28.473</td>\n",
       "      <td>General</td>\n",
       "      <td>TWITTER</td>\n",
       "      <td>N/A</td>\n",
       "      <td>393</td>\n",
       "      <td>18</td>\n",
       "      <td>Text</td>\n",
       "    </tr>\n",
       "    <tr>\n",
       "      <th>3464</th>\n",
       "      <td>2023-01-04 13:00:02.187</td>\n",
       "      <td>General</td>\n",
       "      <td>TWITTER</td>\n",
       "      <td>Community Engagement</td>\n",
       "      <td>136660</td>\n",
       "      <td>2371</td>\n",
       "      <td>Photo</td>\n",
       "    </tr>\n",
       "    <tr>\n",
       "      <th>3465</th>\n",
       "      <td>2023-01-04 13:00:01.000</td>\n",
       "      <td>General</td>\n",
       "      <td>FBPAGE</td>\n",
       "      <td>Community Engagement</td>\n",
       "      <td>29051</td>\n",
       "      <td>811</td>\n",
       "      <td>Photo</td>\n",
       "    </tr>\n",
       "    <tr>\n",
       "      <th>3470</th>\n",
       "      <td>2023-01-03 13:34:33.887</td>\n",
       "      <td>General</td>\n",
       "      <td>TWITTER</td>\n",
       "      <td>N/A</td>\n",
       "      <td>7704</td>\n",
       "      <td>153</td>\n",
       "      <td>Text</td>\n",
       "    </tr>\n",
       "    <tr>\n",
       "      <th>3477</th>\n",
       "      <td>2023-01-03 10:34:03.438</td>\n",
       "      <td>CSGO</td>\n",
       "      <td>TWITTER</td>\n",
       "      <td>N/A</td>\n",
       "      <td>2116</td>\n",
       "      <td>42</td>\n",
       "      <td>Text</td>\n",
       "    </tr>\n",
       "  </tbody>\n",
       "</table>\n",
       "<p>2735 rows × 7 columns</p>\n",
       "</div>"
      ],
      "text/plain": [
       "              Published Date   Account Account Type          Campaign Name  \\\n",
       "4    2023-03-31 19:43:42.590      CSGO      TWITTER  Community Engagement    \n",
       "6    2023-03-31 19:40:57.383      CSGO      TWITTER  Community Engagement    \n",
       "7    2023-03-31 19:23:57.349      CSGO      TWITTER  Community Engagement    \n",
       "9    2023-03-31 18:55:51.855      CSGO      TWITTER  Community Engagement    \n",
       "10   2023-03-31 18:36:01.000  General        FBPAGE  Community Engagement    \n",
       "...                      ...       ...          ...                    ...   \n",
       "3463 2023-01-04 13:17:28.473  General       TWITTER                   N/A    \n",
       "3464 2023-01-04 13:00:02.187  General       TWITTER  Community Engagement    \n",
       "3465 2023-01-04 13:00:01.000  General        FBPAGE  Community Engagement    \n",
       "3470 2023-01-03 13:34:33.887  General       TWITTER                   N/A    \n",
       "3477 2023-01-03 10:34:03.438      CSGO      TWITTER                   N/A    \n",
       "\n",
       "      Total Impressions  Total Engagements Media Type  \n",
       "4                  9517               1215      Video  \n",
       "6                  1882                 83      Photo  \n",
       "7                 17892               3076      Video  \n",
       "9                 13874               1447      Video  \n",
       "10                37692               8044      Photo  \n",
       "...                 ...                ...        ...  \n",
       "3463                393                 18       Text  \n",
       "3464             136660               2371      Photo  \n",
       "3465              29051                811      Photo  \n",
       "3470               7704                153       Text  \n",
       "3477               2116                 42       Text  \n",
       "\n",
       "[2735 rows x 7 columns]"
      ]
     },
     "execution_count": 6,
     "metadata": {},
     "output_type": "execute_result"
    }
   ],
   "source": [
    "filtered_data"
   ]
  },
  {
   "cell_type": "code",
   "execution_count": 7,
   "metadata": {},
   "outputs": [
    {
     "name": "stderr",
     "output_type": "stream",
     "text": [
      "/var/folders/fs/4bsx3pp90m99tqxgzq6j1s6m0000gn/T/ipykernel_98979/1527339301.py:2: SettingWithCopyWarning: \n",
      "A value is trying to be set on a copy of a slice from a DataFrame.\n",
      "Try using .loc[row_indexer,col_indexer] = value instead\n",
      "\n",
      "See the caveats in the documentation: https://pandas.pydata.org/pandas-docs/stable/user_guide/indexing.html#returning-a-view-versus-a-copy\n",
      "  filtered_data['Engagement Rate'] = (filtered_data['Total Engagements'] / filtered_data['Total Impressions']) * 100\n"
     ]
    }
   ],
   "source": [
    "# calculate the engagement rate\n",
    "filtered_data['Engagement Rate'] = (filtered_data['Total Engagements'] / filtered_data['Total Impressions']) * 100"
   ]
  },
  {
   "cell_type": "code",
   "execution_count": 8,
   "metadata": {},
   "outputs": [],
   "source": [
    "# calculate the typical engagement rate\n",
    "typical_engagement_rate = filtered_data['Engagement Rate'].mean()"
   ]
  },
  {
   "cell_type": "code",
   "execution_count": 10,
   "metadata": {},
   "outputs": [
    {
     "name": "stdout",
     "output_type": "stream",
     "text": [
      "Typical Engagement rate is 40.49%\n"
     ]
    }
   ],
   "source": [
    "# Print the result\n",
    "print(\"Typical Engagement rate is {:.2f}%\".format(typical_engagement_rate))"
   ]
  },
  {
   "cell_type": "code",
   "execution_count": 11,
   "metadata": {},
   "outputs": [],
   "source": [
    "# Assess the likelihood of achieving a 15% engagement rate\n",
    "likelihood = len(filtered_data[filtered_data['Engagement Rate'] >= 15]) / len(filtered_data) * 100"
   ]
  },
  {
   "cell_type": "code",
   "execution_count": 12,
   "metadata": {},
   "outputs": [
    {
     "name": "stdout",
     "output_type": "stream",
     "text": [
      "Likelihood of achieving a 15% engagement rate: 8.26%\n"
     ]
    }
   ],
   "source": [
    "# Print the likelihood\n",
    "print(\"Likelihood of achieving a 15% engagement rate: {:.2f}%\".format(likelihood))"
   ]
  },
  {
   "attachments": {},
   "cell_type": "markdown",
   "metadata": {},
   "source": [
    "#### Answer: So the typical engagement rate we can expect is 40.49% and the likelihood that we can achieve a 15% engagement rate is 8.26%"
   ]
  },
  {
   "attachments": {},
   "cell_type": "markdown",
   "metadata": {},
   "source": [
    "#### 2. Does day of the week and time of posting affect engagement rates?"
   ]
  },
  {
   "cell_type": "code",
   "execution_count": 14,
   "metadata": {},
   "outputs": [
    {
     "data": {
      "text/plain": [
       "Published Date       datetime64[ns]\n",
       "Account                      object\n",
       "Account Type                 object\n",
       "Campaign Name                object\n",
       "Total Impressions             int64\n",
       "Total Engagements             int64\n",
       "Media Type                   object\n",
       "Engagement Rate             float64\n",
       "dtype: object"
      ]
     },
     "execution_count": 14,
     "metadata": {},
     "output_type": "execute_result"
    }
   ],
   "source": [
    "filtered_data.dtypes"
   ]
  },
  {
   "cell_type": "code",
   "execution_count": 15,
   "metadata": {},
   "outputs": [
    {
     "name": "stderr",
     "output_type": "stream",
     "text": [
      "/var/folders/fs/4bsx3pp90m99tqxgzq6j1s6m0000gn/T/ipykernel_98979/673600769.py:2: SettingWithCopyWarning: \n",
      "A value is trying to be set on a copy of a slice from a DataFrame.\n",
      "Try using .loc[row_indexer,col_indexer] = value instead\n",
      "\n",
      "See the caveats in the documentation: https://pandas.pydata.org/pandas-docs/stable/user_guide/indexing.html#returning-a-view-versus-a-copy\n",
      "  filtered_data['Day of Week'] = filtered_data['Published Date'].dt.dayofweek\n",
      "/var/folders/fs/4bsx3pp90m99tqxgzq6j1s6m0000gn/T/ipykernel_98979/673600769.py:3: SettingWithCopyWarning: \n",
      "A value is trying to be set on a copy of a slice from a DataFrame.\n",
      "Try using .loc[row_indexer,col_indexer] = value instead\n",
      "\n",
      "See the caveats in the documentation: https://pandas.pydata.org/pandas-docs/stable/user_guide/indexing.html#returning-a-view-versus-a-copy\n",
      "  filtered_data['Time of Posting'] = filtered_data['Published Date'].dt.time\n"
     ]
    }
   ],
   "source": [
    "# Extract the day of week and the time of posting\n",
    "filtered_data['Day of Week'] = filtered_data['Published Date'].dt.dayofweek\n",
    "filtered_data['Time of Posting'] = filtered_data['Published Date'].dt.time"
   ]
  },
  {
   "cell_type": "code",
   "execution_count": 16,
   "metadata": {},
   "outputs": [
    {
     "data": {
      "text/html": [
       "<div>\n",
       "<style scoped>\n",
       "    .dataframe tbody tr th:only-of-type {\n",
       "        vertical-align: middle;\n",
       "    }\n",
       "\n",
       "    .dataframe tbody tr th {\n",
       "        vertical-align: top;\n",
       "    }\n",
       "\n",
       "    .dataframe thead th {\n",
       "        text-align: right;\n",
       "    }\n",
       "</style>\n",
       "<table border=\"1\" class=\"dataframe\">\n",
       "  <thead>\n",
       "    <tr style=\"text-align: right;\">\n",
       "      <th></th>\n",
       "      <th>Published Date</th>\n",
       "      <th>Account</th>\n",
       "      <th>Account Type</th>\n",
       "      <th>Campaign Name</th>\n",
       "      <th>Total Impressions</th>\n",
       "      <th>Total Engagements</th>\n",
       "      <th>Media Type</th>\n",
       "      <th>Engagement Rate</th>\n",
       "      <th>Day of Week</th>\n",
       "      <th>Time of Posting</th>\n",
       "    </tr>\n",
       "  </thead>\n",
       "  <tbody>\n",
       "    <tr>\n",
       "      <th>4</th>\n",
       "      <td>2023-03-31 19:43:42.590</td>\n",
       "      <td>CSGO</td>\n",
       "      <td>TWITTER</td>\n",
       "      <td>Community Engagement</td>\n",
       "      <td>9517</td>\n",
       "      <td>1215</td>\n",
       "      <td>Video</td>\n",
       "      <td>12.766628</td>\n",
       "      <td>4</td>\n",
       "      <td>19:43:42.590000</td>\n",
       "    </tr>\n",
       "    <tr>\n",
       "      <th>6</th>\n",
       "      <td>2023-03-31 19:40:57.383</td>\n",
       "      <td>CSGO</td>\n",
       "      <td>TWITTER</td>\n",
       "      <td>Community Engagement</td>\n",
       "      <td>1882</td>\n",
       "      <td>83</td>\n",
       "      <td>Photo</td>\n",
       "      <td>4.410202</td>\n",
       "      <td>4</td>\n",
       "      <td>19:40:57.383000</td>\n",
       "    </tr>\n",
       "    <tr>\n",
       "      <th>7</th>\n",
       "      <td>2023-03-31 19:23:57.349</td>\n",
       "      <td>CSGO</td>\n",
       "      <td>TWITTER</td>\n",
       "      <td>Community Engagement</td>\n",
       "      <td>17892</td>\n",
       "      <td>3076</td>\n",
       "      <td>Video</td>\n",
       "      <td>17.192041</td>\n",
       "      <td>4</td>\n",
       "      <td>19:23:57.349000</td>\n",
       "    </tr>\n",
       "    <tr>\n",
       "      <th>9</th>\n",
       "      <td>2023-03-31 18:55:51.855</td>\n",
       "      <td>CSGO</td>\n",
       "      <td>TWITTER</td>\n",
       "      <td>Community Engagement</td>\n",
       "      <td>13874</td>\n",
       "      <td>1447</td>\n",
       "      <td>Video</td>\n",
       "      <td>10.429581</td>\n",
       "      <td>4</td>\n",
       "      <td>18:55:51.855000</td>\n",
       "    </tr>\n",
       "    <tr>\n",
       "      <th>10</th>\n",
       "      <td>2023-03-31 18:36:01.000</td>\n",
       "      <td>General</td>\n",
       "      <td>FBPAGE</td>\n",
       "      <td>Community Engagement</td>\n",
       "      <td>37692</td>\n",
       "      <td>8044</td>\n",
       "      <td>Photo</td>\n",
       "      <td>21.341399</td>\n",
       "      <td>4</td>\n",
       "      <td>18:36:01</td>\n",
       "    </tr>\n",
       "    <tr>\n",
       "      <th>...</th>\n",
       "      <td>...</td>\n",
       "      <td>...</td>\n",
       "      <td>...</td>\n",
       "      <td>...</td>\n",
       "      <td>...</td>\n",
       "      <td>...</td>\n",
       "      <td>...</td>\n",
       "      <td>...</td>\n",
       "      <td>...</td>\n",
       "      <td>...</td>\n",
       "    </tr>\n",
       "    <tr>\n",
       "      <th>3463</th>\n",
       "      <td>2023-01-04 13:17:28.473</td>\n",
       "      <td>General</td>\n",
       "      <td>TWITTER</td>\n",
       "      <td>N/A</td>\n",
       "      <td>393</td>\n",
       "      <td>18</td>\n",
       "      <td>Text</td>\n",
       "      <td>4.580153</td>\n",
       "      <td>2</td>\n",
       "      <td>13:17:28.473000</td>\n",
       "    </tr>\n",
       "    <tr>\n",
       "      <th>3464</th>\n",
       "      <td>2023-01-04 13:00:02.187</td>\n",
       "      <td>General</td>\n",
       "      <td>TWITTER</td>\n",
       "      <td>Community Engagement</td>\n",
       "      <td>136660</td>\n",
       "      <td>2371</td>\n",
       "      <td>Photo</td>\n",
       "      <td>1.734963</td>\n",
       "      <td>2</td>\n",
       "      <td>13:00:02.187000</td>\n",
       "    </tr>\n",
       "    <tr>\n",
       "      <th>3465</th>\n",
       "      <td>2023-01-04 13:00:01.000</td>\n",
       "      <td>General</td>\n",
       "      <td>FBPAGE</td>\n",
       "      <td>Community Engagement</td>\n",
       "      <td>29051</td>\n",
       "      <td>811</td>\n",
       "      <td>Photo</td>\n",
       "      <td>2.791642</td>\n",
       "      <td>2</td>\n",
       "      <td>13:00:01</td>\n",
       "    </tr>\n",
       "    <tr>\n",
       "      <th>3470</th>\n",
       "      <td>2023-01-03 13:34:33.887</td>\n",
       "      <td>General</td>\n",
       "      <td>TWITTER</td>\n",
       "      <td>N/A</td>\n",
       "      <td>7704</td>\n",
       "      <td>153</td>\n",
       "      <td>Text</td>\n",
       "      <td>1.985981</td>\n",
       "      <td>1</td>\n",
       "      <td>13:34:33.887000</td>\n",
       "    </tr>\n",
       "    <tr>\n",
       "      <th>3477</th>\n",
       "      <td>2023-01-03 10:34:03.438</td>\n",
       "      <td>CSGO</td>\n",
       "      <td>TWITTER</td>\n",
       "      <td>N/A</td>\n",
       "      <td>2116</td>\n",
       "      <td>42</td>\n",
       "      <td>Text</td>\n",
       "      <td>1.984877</td>\n",
       "      <td>1</td>\n",
       "      <td>10:34:03.438000</td>\n",
       "    </tr>\n",
       "  </tbody>\n",
       "</table>\n",
       "<p>2735 rows × 10 columns</p>\n",
       "</div>"
      ],
      "text/plain": [
       "              Published Date   Account Account Type          Campaign Name  \\\n",
       "4    2023-03-31 19:43:42.590      CSGO      TWITTER  Community Engagement    \n",
       "6    2023-03-31 19:40:57.383      CSGO      TWITTER  Community Engagement    \n",
       "7    2023-03-31 19:23:57.349      CSGO      TWITTER  Community Engagement    \n",
       "9    2023-03-31 18:55:51.855      CSGO      TWITTER  Community Engagement    \n",
       "10   2023-03-31 18:36:01.000  General        FBPAGE  Community Engagement    \n",
       "...                      ...       ...          ...                    ...   \n",
       "3463 2023-01-04 13:17:28.473  General       TWITTER                   N/A    \n",
       "3464 2023-01-04 13:00:02.187  General       TWITTER  Community Engagement    \n",
       "3465 2023-01-04 13:00:01.000  General        FBPAGE  Community Engagement    \n",
       "3470 2023-01-03 13:34:33.887  General       TWITTER                   N/A    \n",
       "3477 2023-01-03 10:34:03.438      CSGO      TWITTER                   N/A    \n",
       "\n",
       "      Total Impressions  Total Engagements Media Type  Engagement Rate  \\\n",
       "4                  9517               1215      Video        12.766628   \n",
       "6                  1882                 83      Photo         4.410202   \n",
       "7                 17892               3076      Video        17.192041   \n",
       "9                 13874               1447      Video        10.429581   \n",
       "10                37692               8044      Photo        21.341399   \n",
       "...                 ...                ...        ...              ...   \n",
       "3463                393                 18       Text         4.580153   \n",
       "3464             136660               2371      Photo         1.734963   \n",
       "3465              29051                811      Photo         2.791642   \n",
       "3470               7704                153       Text         1.985981   \n",
       "3477               2116                 42       Text         1.984877   \n",
       "\n",
       "      Day of Week  Time of Posting  \n",
       "4               4  19:43:42.590000  \n",
       "6               4  19:40:57.383000  \n",
       "7               4  19:23:57.349000  \n",
       "9               4  18:55:51.855000  \n",
       "10              4         18:36:01  \n",
       "...           ...              ...  \n",
       "3463            2  13:17:28.473000  \n",
       "3464            2  13:00:02.187000  \n",
       "3465            2         13:00:01  \n",
       "3470            1  13:34:33.887000  \n",
       "3477            1  10:34:03.438000  \n",
       "\n",
       "[2735 rows x 10 columns]"
      ]
     },
     "execution_count": 16,
     "metadata": {},
     "output_type": "execute_result"
    }
   ],
   "source": [
    "filtered_data"
   ]
  },
  {
   "cell_type": "code",
   "execution_count": 17,
   "metadata": {},
   "outputs": [],
   "source": [
    "# Group the data by day of the week and time of posting, and calculate the average engagement rate\n",
    "grouped_data = filtered_data.groupby(['Day of Week', 'Time of Posting'])['Engagement Rate'].mean().reset_index()"
   ]
  },
  {
   "cell_type": "code",
   "execution_count": 22,
   "metadata": {},
   "outputs": [],
   "source": [
    "grouped_data_sorted = grouped_data.sort_values(by='Engagement Rate', ascending=False)"
   ]
  },
  {
   "cell_type": "code",
   "execution_count": 25,
   "metadata": {},
   "outputs": [
    {
     "data": {
      "text/html": [
       "<div>\n",
       "<style scoped>\n",
       "    .dataframe tbody tr th:only-of-type {\n",
       "        vertical-align: middle;\n",
       "    }\n",
       "\n",
       "    .dataframe tbody tr th {\n",
       "        vertical-align: top;\n",
       "    }\n",
       "\n",
       "    .dataframe thead th {\n",
       "        text-align: right;\n",
       "    }\n",
       "</style>\n",
       "<table border=\"1\" class=\"dataframe\">\n",
       "  <thead>\n",
       "    <tr style=\"text-align: right;\">\n",
       "      <th></th>\n",
       "      <th>Day of Week</th>\n",
       "      <th>Time of Posting</th>\n",
       "      <th>Engagement Rate</th>\n",
       "    </tr>\n",
       "  </thead>\n",
       "  <tbody>\n",
       "    <tr>\n",
       "      <th>0</th>\n",
       "      <td>0</td>\n",
       "      <td>06:00:08</td>\n",
       "      <td>4.661169</td>\n",
       "    </tr>\n",
       "    <tr>\n",
       "      <th>1</th>\n",
       "      <td>0</td>\n",
       "      <td>06:00:09</td>\n",
       "      <td>3.125000</td>\n",
       "    </tr>\n",
       "    <tr>\n",
       "      <th>2</th>\n",
       "      <td>0</td>\n",
       "      <td>06:06:04</td>\n",
       "      <td>1.303781</td>\n",
       "    </tr>\n",
       "    <tr>\n",
       "      <th>3</th>\n",
       "      <td>0</td>\n",
       "      <td>06:06:12</td>\n",
       "      <td>1.013047</td>\n",
       "    </tr>\n",
       "    <tr>\n",
       "      <th>4</th>\n",
       "      <td>0</td>\n",
       "      <td>06:47:27.379000</td>\n",
       "      <td>2.857143</td>\n",
       "    </tr>\n",
       "    <tr>\n",
       "      <th>...</th>\n",
       "      <td>...</td>\n",
       "      <td>...</td>\n",
       "      <td>...</td>\n",
       "    </tr>\n",
       "    <tr>\n",
       "      <th>2676</th>\n",
       "      <td>6</td>\n",
       "      <td>23:09:08.803000</td>\n",
       "      <td>2.487562</td>\n",
       "    </tr>\n",
       "    <tr>\n",
       "      <th>2677</th>\n",
       "      <td>6</td>\n",
       "      <td>23:09:36.760000</td>\n",
       "      <td>1.913876</td>\n",
       "    </tr>\n",
       "    <tr>\n",
       "      <th>2678</th>\n",
       "      <td>6</td>\n",
       "      <td>23:13:48.866000</td>\n",
       "      <td>1.706485</td>\n",
       "    </tr>\n",
       "    <tr>\n",
       "      <th>2679</th>\n",
       "      <td>6</td>\n",
       "      <td>23:14:11.149000</td>\n",
       "      <td>6.611570</td>\n",
       "    </tr>\n",
       "    <tr>\n",
       "      <th>2680</th>\n",
       "      <td>6</td>\n",
       "      <td>23:16:47.935000</td>\n",
       "      <td>1.754386</td>\n",
       "    </tr>\n",
       "  </tbody>\n",
       "</table>\n",
       "<p>2681 rows × 3 columns</p>\n",
       "</div>"
      ],
      "text/plain": [
       "      Day of Week  Time of Posting  Engagement Rate\n",
       "0               0         06:00:08         4.661169\n",
       "1               0         06:00:09         3.125000\n",
       "2               0         06:06:04         1.303781\n",
       "3               0         06:06:12         1.013047\n",
       "4               0  06:47:27.379000         2.857143\n",
       "...           ...              ...              ...\n",
       "2676            6  23:09:08.803000         2.487562\n",
       "2677            6  23:09:36.760000         1.913876\n",
       "2678            6  23:13:48.866000         1.706485\n",
       "2679            6  23:14:11.149000         6.611570\n",
       "2680            6  23:16:47.935000         1.754386\n",
       "\n",
       "[2681 rows x 3 columns]"
      ]
     },
     "execution_count": 25,
     "metadata": {},
     "output_type": "execute_result"
    }
   ],
   "source": [
    "grouped_data"
   ]
  },
  {
   "cell_type": "code",
   "execution_count": 28,
   "metadata": {},
   "outputs": [
    {
     "data": {
      "text/html": [
       "<div>\n",
       "<style scoped>\n",
       "    .dataframe tbody tr th:only-of-type {\n",
       "        vertical-align: middle;\n",
       "    }\n",
       "\n",
       "    .dataframe tbody tr th {\n",
       "        vertical-align: top;\n",
       "    }\n",
       "\n",
       "    .dataframe thead th {\n",
       "        text-align: right;\n",
       "    }\n",
       "</style>\n",
       "<table border=\"1\" class=\"dataframe\">\n",
       "  <thead>\n",
       "    <tr style=\"text-align: right;\">\n",
       "      <th></th>\n",
       "      <th>Day of Week</th>\n",
       "      <th>Time of Posting</th>\n",
       "      <th>Engagement Rate</th>\n",
       "    </tr>\n",
       "  </thead>\n",
       "  <tbody>\n",
       "    <tr>\n",
       "      <th>1820</th>\n",
       "      <td>4</td>\n",
       "      <td>12:37:06</td>\n",
       "      <td>94000.000000</td>\n",
       "    </tr>\n",
       "    <tr>\n",
       "      <th>1226</th>\n",
       "      <td>3</td>\n",
       "      <td>11:55:44</td>\n",
       "      <td>1258.666667</td>\n",
       "    </tr>\n",
       "    <tr>\n",
       "      <th>1041</th>\n",
       "      <td>3</td>\n",
       "      <td>06:02:34</td>\n",
       "      <td>880.000000</td>\n",
       "    </tr>\n",
       "    <tr>\n",
       "      <th>1046</th>\n",
       "      <td>3</td>\n",
       "      <td>06:18:27</td>\n",
       "      <td>100.000000</td>\n",
       "    </tr>\n",
       "    <tr>\n",
       "      <th>1382</th>\n",
       "      <td>3</td>\n",
       "      <td>15:00:00.377000</td>\n",
       "      <td>60.000000</td>\n",
       "    </tr>\n",
       "    <tr>\n",
       "      <th>624</th>\n",
       "      <td>2</td>\n",
       "      <td>07:25:18</td>\n",
       "      <td>58.858403</td>\n",
       "    </tr>\n",
       "    <tr>\n",
       "      <th>1335</th>\n",
       "      <td>3</td>\n",
       "      <td>14:25:33</td>\n",
       "      <td>57.889590</td>\n",
       "    </tr>\n",
       "    <tr>\n",
       "      <th>1040</th>\n",
       "      <td>3</td>\n",
       "      <td>06:02:28</td>\n",
       "      <td>57.500000</td>\n",
       "    </tr>\n",
       "    <tr>\n",
       "      <th>185</th>\n",
       "      <td>1</td>\n",
       "      <td>05:18:48</td>\n",
       "      <td>56.480028</td>\n",
       "    </tr>\n",
       "    <tr>\n",
       "      <th>2653</th>\n",
       "      <td>6</td>\n",
       "      <td>17:48:41</td>\n",
       "      <td>55.765629</td>\n",
       "    </tr>\n",
       "    <tr>\n",
       "      <th>2669</th>\n",
       "      <td>6</td>\n",
       "      <td>20:48:33</td>\n",
       "      <td>51.560997</td>\n",
       "    </tr>\n",
       "    <tr>\n",
       "      <th>1345</th>\n",
       "      <td>3</td>\n",
       "      <td>14:36:46</td>\n",
       "      <td>45.396165</td>\n",
       "    </tr>\n",
       "    <tr>\n",
       "      <th>555</th>\n",
       "      <td>1</td>\n",
       "      <td>16:54:36</td>\n",
       "      <td>44.993383</td>\n",
       "    </tr>\n",
       "    <tr>\n",
       "      <th>1781</th>\n",
       "      <td>4</td>\n",
       "      <td>11:41:25</td>\n",
       "      <td>44.713813</td>\n",
       "    </tr>\n",
       "    <tr>\n",
       "      <th>902</th>\n",
       "      <td>2</td>\n",
       "      <td>14:00:01</td>\n",
       "      <td>43.092220</td>\n",
       "    </tr>\n",
       "    <tr>\n",
       "      <th>1052</th>\n",
       "      <td>3</td>\n",
       "      <td>07:00:00</td>\n",
       "      <td>41.077418</td>\n",
       "    </tr>\n",
       "    <tr>\n",
       "      <th>1456</th>\n",
       "      <td>3</td>\n",
       "      <td>15:50:18</td>\n",
       "      <td>40.040880</td>\n",
       "    </tr>\n",
       "    <tr>\n",
       "      <th>1039</th>\n",
       "      <td>3</td>\n",
       "      <td>06:02:22</td>\n",
       "      <td>40.000000</td>\n",
       "    </tr>\n",
       "    <tr>\n",
       "      <th>1127</th>\n",
       "      <td>3</td>\n",
       "      <td>09:22:33</td>\n",
       "      <td>38.448840</td>\n",
       "    </tr>\n",
       "    <tr>\n",
       "      <th>437</th>\n",
       "      <td>1</td>\n",
       "      <td>13:46:26</td>\n",
       "      <td>38.082478</td>\n",
       "    </tr>\n",
       "  </tbody>\n",
       "</table>\n",
       "</div>"
      ],
      "text/plain": [
       "      Day of Week  Time of Posting  Engagement Rate\n",
       "1820            4         12:37:06     94000.000000\n",
       "1226            3         11:55:44      1258.666667\n",
       "1041            3         06:02:34       880.000000\n",
       "1046            3         06:18:27       100.000000\n",
       "1382            3  15:00:00.377000        60.000000\n",
       "624             2         07:25:18        58.858403\n",
       "1335            3         14:25:33        57.889590\n",
       "1040            3         06:02:28        57.500000\n",
       "185             1         05:18:48        56.480028\n",
       "2653            6         17:48:41        55.765629\n",
       "2669            6         20:48:33        51.560997\n",
       "1345            3         14:36:46        45.396165\n",
       "555             1         16:54:36        44.993383\n",
       "1781            4         11:41:25        44.713813\n",
       "902             2         14:00:01        43.092220\n",
       "1052            3         07:00:00        41.077418\n",
       "1456            3         15:50:18        40.040880\n",
       "1039            3         06:02:22        40.000000\n",
       "1127            3         09:22:33        38.448840\n",
       "437             1         13:46:26        38.082478"
      ]
     },
     "execution_count": 28,
     "metadata": {},
     "output_type": "execute_result"
    }
   ],
   "source": [
    "grouped_data_sorted.head(20)"
   ]
  },
  {
   "cell_type": "code",
   "execution_count": 30,
   "metadata": {},
   "outputs": [
    {
     "name": "stdout",
     "output_type": "stream",
     "text": [
      "206\n"
     ]
    }
   ],
   "source": [
    "# Count the number of data points with engagement rate > 15\n",
    "total_high_engagement = len(grouped_data[grouped_data['Engagement Rate'] > 15])\n",
    "\n",
    "# Print the result\n",
    "print(total_high_engagement)\n"
   ]
  },
  {
   "cell_type": "code",
   "execution_count": 27,
   "metadata": {},
   "outputs": [
    {
     "name": "stdout",
     "output_type": "stream",
     "text": [
      "3    53\n",
      "1    41\n",
      "4    39\n",
      "6    31\n",
      "2    20\n",
      "0    11\n",
      "5    11\n",
      "Name: Day of Week, dtype: int64\n"
     ]
    }
   ],
   "source": [
    "# Count occurrences of high engagement rates by day of the week\n",
    "high_engagement_count = grouped_data[grouped_data['Engagement Rate'] > 15]['Day of Week'].value_counts()\n",
    "\n",
    "# Print the result\n",
    "print(high_engagement_count)\n"
   ]
  },
  {
   "cell_type": "code",
   "execution_count": 31,
   "metadata": {},
   "outputs": [
    {
     "name": "stdout",
     "output_type": "stream",
     "text": [
      "09:00:01    2\n",
      "17:42:21    2\n",
      "09:00:57    1\n",
      "11:10:53    1\n",
      "08:59:07    1\n",
      "           ..\n",
      "06:02:22    1\n",
      "06:02:28    1\n",
      "06:02:34    1\n",
      "06:16:55    1\n",
      "20:48:33    1\n",
      "Name: Time of Posting, Length: 204, dtype: int64\n"
     ]
    }
   ],
   "source": [
    "# Count occurrences of high engagement rates by time of posting\n",
    "high_engagement_time_count = grouped_data[grouped_data['Engagement Rate'] > 15]['Time of Posting'].value_counts()\n",
    "\n",
    "# Print the result\n",
    "print(high_engagement_time_count)\n"
   ]
  },
  {
   "cell_type": "code",
   "execution_count": 32,
   "metadata": {},
   "outputs": [
    {
     "name": "stdout",
     "output_type": "stream",
     "text": [
      "9     31\n",
      "16    23\n",
      "14    21\n",
      "17    18\n",
      "13    17\n",
      "12    16\n",
      "8     15\n",
      "11    13\n",
      "15    13\n",
      "7     10\n",
      "10     8\n",
      "6      7\n",
      "18     6\n",
      "5      3\n",
      "21     2\n",
      "4      1\n",
      "19     1\n",
      "20     1\n",
      "Name: Hour of Posting, dtype: int64\n"
     ]
    }
   ],
   "source": [
    "# Extract the hour from the 'Time of Posting' column\n",
    "grouped_data['Hour of Posting'] = grouped_data['Time of Posting'].apply(lambda x: x.hour)\n",
    "\n",
    "# Count occurrences of high engagement rates by hour of posting\n",
    "high_engagement_hour_count = grouped_data[grouped_data['Engagement Rate'] > 15]['Hour of Posting'].value_counts()\n",
    "\n",
    "# Print the result\n",
    "print(high_engagement_hour_count)\n"
   ]
  },
  {
   "attachments": {},
   "cell_type": "markdown",
   "metadata": {},
   "source": [
    "#### Answer: \n",
    "#### So from the above analyzing, we can see that the daya of week will affect the engagement rates whereas the exact time of posting will not normally have impact to the engagement rate. Based on the analysis above, we can see that day 3 which corresponds to Wednesday has the highest count among the rest of the week. And the exact time doesn't have a lot overlap, but when we only think about the hour of the time, 9 o'clock appears to have the highest count that has the engagment rate greater than 15. That suggest that Wednesday and 9 o'clock tend to have higher occurrence of high engagement rates compared to other days in the dataset. But these are specific to the given dataset, with other dataset it might varies. "
   ]
  },
  {
   "attachments": {},
   "cell_type": "markdown",
   "metadata": {},
   "source": [
    "#### 3. How our game title doing in terms of social performance? Is there a specific game we should focus more on or less?"
   ]
  },
  {
   "cell_type": "code",
   "execution_count": 34,
   "metadata": {},
   "outputs": [],
   "source": [
    "# group the dataset by the game title and also calculate the total engagements\n",
    "game_performance = data.groupby(\"Account\")[\"Total Engagements\"].sum().sort_values(ascending=False)\n"
   ]
  },
  {
   "cell_type": "code",
   "execution_count": 35,
   "metadata": {},
   "outputs": [
    {
     "name": "stdout",
     "output_type": "stream",
     "text": [
      "Total Engagements by Game Title:\n",
      "Account\n",
      "General             3076479\n",
      "DOTA2                123990\n",
      "CSGO                  92336\n",
      "Content Creators       1387\n",
      "Valorant                931\n",
      "General                 849\n",
      "Name: Total Engagements, dtype: int64\n"
     ]
    }
   ],
   "source": [
    "# print the results\n",
    "print(\"Total Engagements by Game Title:\")\n",
    "print(game_performance)"
   ]
  },
  {
   "cell_type": "code",
   "execution_count": 36,
   "metadata": {},
   "outputs": [
    {
     "name": "stdout",
     "output_type": "stream",
     "text": [
      "Top Game Title: General \n"
     ]
    }
   ],
   "source": [
    "# return the game title with the highest total engagements\n",
    "top_game = game_performance.idxmax()\n",
    "print(\"Top Game Title:\", top_game)"
   ]
  },
  {
   "cell_type": "code",
   "execution_count": 37,
   "metadata": {},
   "outputs": [
    {
     "name": "stdout",
     "output_type": "stream",
     "text": [
      "Top Game Title: General\n"
     ]
    }
   ],
   "source": [
    "# return the game title with the lowest total engagements\n",
    "bottom_game = game_performance.idxmin()\n",
    "print(\"Bottom Game Title:\", bottom_game)"
   ]
  },
  {
   "attachments": {},
   "cell_type": "markdown",
   "metadata": {},
   "source": [
    "#### Answer:\n",
    "#### Based on the analysis I have, there are two apperance of \"General\" may results the data inconsistency or unspecify of the game and all in category General. Based on the dataset, I think if we can specify specific games instead of using general, we might have different results and can give a more valuable suggestion about which game to focus more or less since there do have valueable games in category of General needed to focus more and also some games results in low engagements that can be focus less. But without more detailed data, it is hard to find out futher suggestion. But besides General, we can see DOTA2 is the second highest engagement rate and Content Creators and Valorant are having lower social performance, which can suggested that DOTA2 need more focus and relatively can spend less focus on Valorant and followed by Content Creators."
   ]
  },
  {
   "attachments": {},
   "cell_type": "markdown",
   "metadata": {},
   "source": [
    "#### 4. What media type performs the best?"
   ]
  },
  {
   "cell_type": "code",
   "execution_count": 38,
   "metadata": {},
   "outputs": [
    {
     "name": "stdout",
     "output_type": "stream",
     "text": [
      "Media Type\n",
      "Photo       2167739\n",
      "Video        859451\n",
      "Text         246312\n",
      "Mixed         13664\n",
      "Carousel       6541\n",
      "Link           2257\n",
      "Album             8\n",
      "Name: Total Engagements, dtype: int64\n"
     ]
    }
   ],
   "source": [
    "media_engagements = data.groupby(\"Media Type\")[\"Total Engagements\"].sum().sort_values(ascending=False)\n",
    "print(media_engagements)\n"
   ]
  },
  {
   "attachments": {},
   "cell_type": "markdown",
   "metadata": {},
   "source": [
    "#### Answer:\n",
    "#### Similarly, we can come with Photo is the media type that performs the best."
   ]
  },
  {
   "attachments": {},
   "cell_type": "markdown",
   "metadata": {},
   "source": [
    "#### 5. What is our best performing campaign?"
   ]
  },
  {
   "cell_type": "code",
   "execution_count": 40,
   "metadata": {},
   "outputs": [
    {
     "name": "stdout",
     "output_type": "stream",
     "text": [
      "Community Engagement \n"
     ]
    }
   ],
   "source": [
    "best_campaign = data.groupby(\"Campaign Name\")[\"Total Engagements\"].sum().sort_values(ascending=False).head(1).index[0]\n",
    "print(best_campaign)"
   ]
  },
  {
   "attachments": {},
   "cell_type": "markdown",
   "metadata": {},
   "source": [
    "#### Answer:\n",
    "#### With the above code, we can find out that 'Community Engagement' is our best performing campaign"
   ]
  },
  {
   "attachments": {},
   "cell_type": "markdown",
   "metadata": {},
   "source": [
    "#### 6. Define out a posting strategy for our social channels based on your discoveries."
   ]
  },
  {
   "attachments": {},
   "cell_type": "markdown",
   "metadata": {},
   "source": [
    "According to the analysis above, I believe the first strategy should put more of an emphasis on community engagement because this campaign has the highest level of engagement. Give more time, money, and effort to producing content and events that promote social interaction and neighborhood involvement. Second, since images and moving pictures are considered to be the most captivating media types, we should place special emphasis on the visual content. Prioritizing the creation of visually appealing and compelling content can greatly aid in grabbing the audience's attention. But since there are also many people who believe these are interesting media types, the followed by high orrcurity of other types of text, mixed, and carousal also suggested to make the posting divisive. Next, the various game preferences suggested that more effort should be put into promoting hit games like General, DOTA2, and CSGO. Last but not least, posting at the right time is a crucial strategy. According to the data, Wednesday between the hours of 9 and 16 appears to be a good time to post in order to increase visibility and interaction."
   ]
  },
  {
   "attachments": {},
   "cell_type": "markdown",
   "metadata": {},
   "source": [
    "#### 7. What suggestions would you give to the social media team if they want to expand their presence (e.g. if our CSGO youtube channel is doing well should we expand to TikTok)?"
   ]
  },
  {
   "attachments": {},
   "cell_type": "markdown",
   "metadata": {},
   "source": [
    "If the social media team want to expand their presence, I think there are few steps needed to consider. The first step is to conduct market research because it's crucial to understand whether or not our target market is active and using TikTok. Interests, demographics, and engagement patterns are just a few of the audience characteristics that need to be investigated. Second, because every platform has a different strategy for drawing users, it is crucial to consider how we want to express our game on TikTok. The success of a YouTube channel does not guarantee success on TikTok. Since TikTok is known for its brief videos and ease of accessibility, our YouTube postings may need to be modified in order to conform to the TikTok trends.  Due to the success and popularity of video content, there are ways to reuse or create original content from the YouTube channel for TikTok. The most important step in extending to a new platform is this one because it involves content creation, community management, monitoring, keeping up with trends on the new platform, and finding new ways to post. The final step after considering all of these suggestions is to keep an eye on TikTok's performance. Follow the metrics, such as social performance, engagements, and audience feedback, on a regular basis. That might helps with expanding the presence. "
   ]
  },
  {
   "attachments": {},
   "cell_type": "markdown",
   "metadata": {},
   "source": []
  },
  {
   "cell_type": "code",
   "execution_count": null,
   "metadata": {},
   "outputs": [],
   "source": []
  },
  {
   "cell_type": "code",
   "execution_count": null,
   "metadata": {},
   "outputs": [],
   "source": []
  }
 ],
 "metadata": {
  "kernelspec": {
   "display_name": "base",
   "language": "python",
   "name": "python3"
  },
  "language_info": {
   "codemirror_mode": {
    "name": "ipython",
    "version": 3
   },
   "file_extension": ".py",
   "mimetype": "text/x-python",
   "name": "python",
   "nbconvert_exporter": "python",
   "pygments_lexer": "ipython3",
   "version": "3.9.12"
  },
  "orig_nbformat": 4
 },
 "nbformat": 4,
 "nbformat_minor": 2
}
